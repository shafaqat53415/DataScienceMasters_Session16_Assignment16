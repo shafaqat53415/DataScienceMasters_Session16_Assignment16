{
 "cells": [
  {
   "cell_type": "code",
   "execution_count": 1,
   "metadata": {},
   "outputs": [],
   "source": [
    "#Problem Statement 3:\n",
    "#Two balls are drawn at random in succession without replacement from an urn\n",
    "#containing 4 red balls and 6 black balls.\n",
    "#Find the probabilities of all the possible outcomes."
   ]
  },
  {
   "cell_type": "code",
   "execution_count": 2,
   "metadata": {},
   "outputs": [],
   "source": [
    "import math"
   ]
  },
  {
   "cell_type": "code",
   "execution_count": 3,
   "metadata": {},
   "outputs": [],
   "source": [
    "#possible outcomes of the mentoined problem\n",
    "P = [('R','R'),('R','B'),('B','R'),('B','B')]"
   ]
  },
  {
   "cell_type": "code",
   "execution_count": 4,
   "metadata": {},
   "outputs": [
    {
     "name": "stdout",
     "output_type": "stream",
     "text": [
      "Probability of outcome as ('R', 'R') is 0.133333\n",
      "Probability of outcome as ('R', 'B') is 0.266667\n",
      "Probability of outcome as ('B', 'R') is 0.266667\n",
      "Probability of outcome as ('B', 'B') is 0.333333\n"
     ]
    }
   ],
   "source": [
    "#no. of red balls\n",
    "r = 4\n",
    "#no. of black balls\n",
    "b = 6\n",
    "#probability of outcome as ('R','R')\n",
    "p1 = (r/(r+b))*((r-1)/(r+b-1))\n",
    "print('Probability of outcome as',P[0],'is {:f}'.format(p1))\n",
    "#probability of outcome as ('R','B')\n",
    "p2 = (r/(r+b))*(b/(r+b-1))\n",
    "print('Probability of outcome as',P[1],'is {:f}'.format(p2))\n",
    "#probability of outcome as ('B','R')\n",
    "p3 = (b/(r+b))*(r/(r+b-1))\n",
    "print('Probability of outcome as',P[2],'is {:f}'.format(p3))\n",
    "#probability of outcome as ('B','B')\n",
    "p4 = (b/(r+b))*((b-1)/(r+b-1))\n",
    "print('Probability of outcome as',P[3],'is {:f}'.format(p4))"
   ]
  }
 ],
 "metadata": {
  "kernelspec": {
   "display_name": "Python 3",
   "language": "python",
   "name": "python3"
  },
  "language_info": {
   "codemirror_mode": {
    "name": "ipython",
    "version": 3
   },
   "file_extension": ".py",
   "mimetype": "text/x-python",
   "name": "python",
   "nbconvert_exporter": "python",
   "pygments_lexer": "ipython3",
   "version": "3.6.5"
  }
 },
 "nbformat": 4,
 "nbformat_minor": 2
}
