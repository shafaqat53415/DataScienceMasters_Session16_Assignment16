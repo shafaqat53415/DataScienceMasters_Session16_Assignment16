{
 "cells": [
  {
   "cell_type": "code",
   "execution_count": 1,
   "metadata": {},
   "outputs": [],
   "source": [
    "#Problem Statement 1:\n",
    "#A test is conducted which is consisting of 20 MCQs (multiple choices questions) with\n",
    "#every MCQ having its four options out of which only one is correct. Determine the\n",
    "#probability that a person undertaking that test has answered exactly 5 questions wrong."
   ]
  },
  {
   "cell_type": "code",
   "execution_count": 2,
   "metadata": {},
   "outputs": [],
   "source": [
    "import math\n",
    "import scipy.stats"
   ]
  },
  {
   "cell_type": "code",
   "execution_count": 3,
   "metadata": {},
   "outputs": [
    {
     "name": "stdout",
     "output_type": "stream",
     "text": [
      "Enter total no. of MCQs:20\n",
      "Enter the exact no. of question answered wrong:5\n",
      "The probability of answering exactly 5 questions wrong is 0.000003\n",
      "The probability of answering exactly 5 questions wrong calculated using binomial function is 0.000003\n"
     ]
    }
   ],
   "source": [
    "n = int(input('Enter total no. of MCQs:'))\n",
    "x = int(input('Enter the exact no. of question answered wrong:'))\n",
    "#probability of wrong answer for each question is no. of wrong choices divided by total no. of choices\n",
    "#As mentioned in problem statement each answer has only one correct choice out of 4 choices\n",
    "#the probability of answering a question wrong is given as\n",
    "p = 3/4\n",
    "#Probability of getting the exact no. of answers correctly can be calculated by following methods\n",
    "P = ((math.factorial(n)/((math.factorial(x)*math.factorial(n-x))))*(p**x)*((1-p)**(n-x)))\n",
    "print('The probability of answering exactly',x,'questions wrong is {:f}'.format(P))\n",
    "pmf = scipy.stats.binom.pmf(x,n,p)\n",
    "print('The probability of answering exactly',x,'questions wrong calculated using binomial function is {:f}'.format(pmf))"
   ]
  }
 ],
 "metadata": {
  "kernelspec": {
   "display_name": "Python 3",
   "language": "python",
   "name": "python3"
  },
  "language_info": {
   "codemirror_mode": {
    "name": "ipython",
    "version": 3
   },
   "file_extension": ".py",
   "mimetype": "text/x-python",
   "name": "python",
   "nbconvert_exporter": "python",
   "pygments_lexer": "ipython3",
   "version": "3.6.5"
  }
 },
 "nbformat": 4,
 "nbformat_minor": 2
}
