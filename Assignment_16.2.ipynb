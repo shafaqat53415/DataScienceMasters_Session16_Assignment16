{
 "cells": [
  {
   "cell_type": "code",
   "execution_count": 1,
   "metadata": {},
   "outputs": [],
   "source": [
    "#Problem Statement 2:\n",
    "#A die marked A to E is rolled 50 times. Find the probability of getting a “D” exactly 5\n",
    "#times."
   ]
  },
  {
   "cell_type": "code",
   "execution_count": 2,
   "metadata": {},
   "outputs": [],
   "source": [
    "import math\n",
    "import scipy.stats"
   ]
  },
  {
   "cell_type": "code",
   "execution_count": 3,
   "metadata": {},
   "outputs": [
    {
     "name": "stdout",
     "output_type": "stream",
     "text": [
      "Enter total no. of times die was rolled:50\n",
      "Enter the exact no. of times the outcome was D:5\n",
      "The probability of getting the outcome as D is 0.029531\n",
      "The probability of getting the outcome as D calculated using binomial function is 0.029531\n"
     ]
    }
   ],
   "source": [
    "n = int(input('Enter total no. of times die was rolled:'))\n",
    "x = int(input('Enter the exact no. of times the outcome was D:'))\n",
    "#probability of outcome of a die is 1 divided by the no. of markings on the die \n",
    "#the probability of outcome is given as\n",
    "p = 1/5\n",
    "#Probability of getting the exact no. of times the same outcome is\n",
    "P = ((math.factorial(n)/((math.factorial(x)*math.factorial(n-x))))*(p**x)*((1-p)**(n-x)))\n",
    "print('The probability of getting the outcome as D is {:f}'.format(P))\n",
    "pmf = scipy.stats.binom.pmf(x,n,p)\n",
    "print('The probability of getting the outcome as D calculated using binomial function is {:f}'.format(pmf))"
   ]
  }
 ],
 "metadata": {
  "kernelspec": {
   "display_name": "Python 3",
   "language": "python",
   "name": "python3"
  },
  "language_info": {
   "codemirror_mode": {
    "name": "ipython",
    "version": 3
   },
   "file_extension": ".py",
   "mimetype": "text/x-python",
   "name": "python",
   "nbconvert_exporter": "python",
   "pygments_lexer": "ipython3",
   "version": "3.6.5"
  }
 },
 "nbformat": 4,
 "nbformat_minor": 2
}
